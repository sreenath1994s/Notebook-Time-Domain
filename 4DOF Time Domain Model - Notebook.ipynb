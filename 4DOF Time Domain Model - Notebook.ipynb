{
 "cells": [
  {
   "cell_type": "markdown",
   "metadata": {},
   "source": [
    "<center><h1>4 DOF Time Domain Model Notebook</h1></center>\n",
    "<br>\n",
    "<center><h3>Notebook written by <em>Sreenath S</em></h3></center>\n",
    "\n",
    "This notebook is an attempt at proper documentation of the development of the 4 DOF Time domain model for **Ship Manoeuvring in Waves**\n",
    "\n",
    "<p><strong>Jupyter Notebook Shortcuts</strong></p>\n",
    "<ul>\n",
    "<li>Toggle between edit and command mode with <code>Esc</code> and <code>Enter</code>, respectively.</li>\n",
    "<li>Once in command mode:\n",
    "<ul>\n",
    "<li>Scroll up and down your cells with your <code>Up</code> and <code>Down</code> keys.</li>\n",
    "<li>Press <code>A</code> or <code>B</code> to insert a new cell above or below the active cell.</li>\n",
    "<li><code>M</code> will transform the active cell to a Markdown cell.</li>\n",
    "<li><code>Y</code> will set the active cell to a code cell.</li>\n",
    "<li><code>D + D</code> (<code>D</code> twice) will delete the active cell.</li>\n",
    "<li><code>Z</code> will undo cell deletion.</li>\n",
    "<li>Hold <code>Shift</code> and press <code>Up</code> or <code>Down</code> to select multiple cells at once.\n",
    "<ul>\n",
    "<li>With multiple cells selected, <code>Shift + M</code> will merge your selection.</li>\n",
    "</ul>\n",
    "</li>\n",
    "</ul>\n",
    "</li>\n",
    "<li><code>Ctrl + Shift + -</code>, in edit mode, will split the active cell at the cursor.</li>\n",
    "<li>You can also click and <code>Shift + Click</code> in the margin to the left of your cells to select them.</li>\n",
    "</ul>\n",
    "\n",
    "**STEP 1) Import the necessary modules**"
   ]
  },
  {
   "cell_type": "code",
   "execution_count": 1,
   "metadata": {},
   "outputs": [],
   "source": [
    "# Standard Library Imports\n",
    "\n",
    "import pandas as pd\n",
    "import numpy  as np\n",
    "from math import *\n",
    "from scipy import constants\n",
    "import matplotlib.pyplot as plt\n",
    "\n",
    "# Custom Library Imports\n",
    "\n",
    "from modules import math_op                           # This custom modules contain several custom math operations"
   ]
  },
  {
   "cell_type": "markdown",
   "metadata": {},
   "source": [
    "**STEP 2) Read the necessary Input Data**"
   ]
  },
  {
   "cell_type": "code",
   "execution_count": 2,
   "metadata": {},
   "outputs": [],
   "source": [
    "############################# Intialization ###############################\n",
    "\n",
    "# 1. Universal Constant\n",
    "\n",
    "g = constants.g                                       # Acceleration due to gravity ( m/s^2 )\n",
    "ρ = 1000                                              # Density of fresh water ( kg / m^3 )\n",
    "π = constants.pi                                      # π\n",
    "\n",
    "# 2. Hull Properties\n",
    "\n",
    "df = pd.read_csv('data/vessel_parameters.csv', index_col='parameter', comment='#')\n",
    "\n",
    "m = df['value']['m']                                  # Ship Mass ( kg )\n",
    "                         \n",
    "I_B = np.array([ [df['value']['I_X'],0,0],            # Moment and Product of inertia Matrix ( kg m^2)\n",
    "                 [0,df['value']['I_Y'],0],\n",
    "                 [2,0,df['value']['I_Z']] ])\n",
    "\n",
    "V_disp = df['value']['V_disp']                        # Volume Displacement ( m^3 ). Sea water volume is used.\n",
    "\n",
    "L   = df['value']['L']                                # Length between perpendiculars ( m )\n",
    "\n",
    "LCB = df['value']['LCB']                              # Location of LCB from body-fixed CS  ( m )\n",
    "\n",
    "D = df['value']['D']                                  # Depth of ship ( m )\n",
    "\n",
    "B = df['value']['B']                                  # Breadth of ship ( m )\n",
    "\n",
    "d = df['value']['d']                                  # Draft of ship ( m )\n",
    "\n",
    "GM_T = df['value']['GM_T']                            # Transverse metacentric height ( m )\n",
    "\n",
    "GM_L = df['value']['GM_L']                            # Longitudinal metacentric height ( m )\n",
    "\n",
    "R_G = np.array([ [df['value']['X_G']],                # Vector of C.O.G ( m )\n",
    "                 [df['value']['Y_G']], \n",
    "                 [df['value']['Z_G']] ])\n",
    "\n",
    "Yv_dash = df['value'][\"Yv'\"]                          # First order hydrodynamic derivatives\n",
    "Yr_dash = df['value'][\"Yr'\"]                          # \n",
    "Nv_dash = df['value'][\"Nv'\"]                          #\n",
    "Nr_dash = df['value'][\"Nr'\"]                          #\n",
    "\n",
    "Xvr_dash = df['value'][\"Xvr'\"]                        # Second order hydrodynamic derivatives\n",
    "Xvv_dash = df['value'][\"Xvv'\"]                        # \n",
    "Xrr_dash = df['value'][\"Xrr'\"]                        #\n",
    "\n",
    "Yvvr_dash = df['value'][\"Yvvr'\"]                      # Third order hydrodynamic derivatives \n",
    "Yvrr_dash = df['value'][\"Yvrr'\"]                      #\n",
    "Nvvr_dash = df['value'][\"Nvvr'\"]                      #\n",
    "Nvrr_dash = df['value'][\"Nvrr'\"]                      # \n",
    "Yvvv_dash = df['value'][\"Yvvv'\"]                      #\n",
    "Yrrr_dash = df['value'][\"Yrrr'\"]                      #\n",
    "Nvvv_dash = df['value'][\"Nvvv'\"]                      #\n",
    "Nrrr_dash = df['value'][\"Nrrr'\"]                      #\n",
    "\n",
    "Xvvvv_dash = df['value'][\"Xvvvv'\"]                    # Fourth order hydrodynamic derivative\n",
    "\n",
    "# 3. Ship Motion Properties\n",
    "\n",
    "Tφ = df['value']['Tφ']                                # Ship Natural Roll Period (s)\n",
    "\n",
    "# 4. Propeller Properties\n",
    "\n",
    "N_prop = df['value'][\"N_prop\"]                        # No. of Propellers\n",
    "Dp     = df['value'][\"Dp\"]                            # Propeller diameter ( m )\n",
    "wp     = df['value'][\"wp\"]                            # Wake Fraction \n",
    "tp     = df['value'][\"tp\"]                            # Thrust Deduction Fraction\n",
    "\n",
    "# 5. Experimental Conditions\n",
    "\n",
    "Fn = df['value'][\"Fn\"]                                # Froude Number\n",
    "\n",
    "# 6. R vs Vs Data ( Resistance vs Ship Velocity )\n",
    "\n",
    "df2 = pd.read_csv('data/R__vs__Vs.csv',  comment='#')\n",
    "Vs_pts  = df2['Vs'].to_numpy()                        # Vs -> ( m/s ) & Rt -> ( N )\n",
    "R_pts   = df2['R'].to_numpy()                         # pts stands for points\n",
    "\n",
    "# 7. Read KT vs J Data ( Thrust Co-eff vs Advance Co-eff. )\n",
    "\n",
    "df3 = pd.read_csv('data/KT__vs__J.csv',  comment='#')\n",
    "J_pts  = df3['J'].to_numpy()\n",
    "KT_pts = df3['KT'].to_numpy()\n",
    "\n",
    "# 8. Read the calm water GZ data\n",
    "\n",
    "df4 = pd.read_csv('data/GZ_Data/GZ_calmwater.csv', comment='#')\n",
    "φ_pts   = df4['φ'].to_numpy() \n",
    "GZ_pts  = df4['GZ'].to_numpy()                        # φ -> ( deg ) & GZ -> ( m )\n",
    "\n",
    "# 9. Test Variables\n",
    "\n",
    "wind_heel_moment = 0                                  # Wind heeling moment Nm"
   ]
  },
  {
   "cell_type": "markdown",
   "metadata": {},
   "source": [
    "**STEP 3) Start the preparatory calculations**"
   ]
  },
  {
   "cell_type": "markdown",
   "metadata": {},
   "source": [
    "   *1. Prediction of Self propulsion RPS*"
   ]
  },
  {
   "cell_type": "code",
   "execution_count": 3,
   "metadata": {
    "code_folding": [
     16
    ]
   },
   "outputs": [
    {
     "name": "stdout",
     "output_type": "stream",
     "text": [
      "\n",
      " Simulation started\n",
      "\n",
      " Still water propeller RPM = 3.713\n"
     ]
    }
   ],
   "source": [
    "############################# Preparatory Calculations ###############################\n",
    "#                                                                                    #\n",
    "#     This section includes some basic set of calculations which must be             #\n",
    "#     carried out prior to the main simulation.                                      #\n",
    "#                                                                                    #\n",
    "######################################################################################\n",
    "\n",
    "print(\"\\n Simulation started\")\n",
    "\n",
    "# 1. Prediction of Self Propulsion RPS from Froude number\n",
    "\n",
    "Vs = Fn * sqrt(g*L)\n",
    "\n",
    "n_min = 1                                               # Define a minimum and maximum value for Propeller RPM\n",
    "n_max = 50\n",
    "\n",
    "def self_prop_rps(n):                                   # Define the function to be used inside the iterative solver\n",
    "\n",
    "    J = (Vs*(1-wp))/(n*Dp)\n",
    "\n",
    "    KT = math_op.cspline_interp(J,J_pts, KT_pts)        # Interpolate the KT value for J\n",
    "\n",
    "    T = N_prop * KT * ρ * n**2 * Dp**4                  # Calculate the Thrust\n",
    "\n",
    "    R = math_op.cspline_interp(Vs,Vs_pts, R_pts)        # Interpolate the Resistance\n",
    "\n",
    "    Net_thrust = (T*(1-tp)) - R\n",
    "\n",
    "    return Net_thrust\n",
    "\n",
    "n = math_op.itr_sol_search(self_prop_rps, n_min, n_max)   # Use iterative solver to find the solution\n",
    "\n",
    "print(\"\\n Still water propeller RPM =\", round(n,3))"
   ]
  },
  {
   "cell_type": "markdown",
   "metadata": {},
   "source": [
    "*2. Calculation of still water equilibrium under action of constant wind*"
   ]
  },
  {
   "cell_type": "code",
   "execution_count": 4,
   "metadata": {
    "code_folding": []
   },
   "outputs": [
    {
     "name": "stdout",
     "output_type": "stream",
     "text": [
      "\n",
      " Equilibrium heel angle under external wind = 0.0   Equilibrium GM = 1.386   \n",
      " \n",
      " New Roll Frequency 0.55\n",
      "\n",
      " Simulation Ended\n"
     ]
    }
   ],
   "source": [
    "# 2. Calculation of the still water equilibrium with action of constant wind.\n",
    "\n",
    "GZ_max = np.amax(GZ_pts)                                # Find the max and min values from the GZ data and corresponding φ\n",
    "GZ_min = np.amin(GZ_pts)                                #\n",
    "φ_max  = φ_pts[np.argmax(GZ_pts)]                       #\n",
    "φ_min  = φ_pts[np.argmin(GZ_pts)]                       #\n",
    "\n",
    "Net_moment = (m * g * GZ_max) - wind_heel_moment\n",
    "\n",
    "if(Net_moment<=0):\n",
    "\n",
    "    print(\"\\n Model has capsised under external wind \")\n",
    "\n",
    "def still(φ_equi):                                                     # Define the function to be used inside the iterative solver\n",
    "\n",
    "    GZ_equi = math_op.cspline_interp(φ_equi, φ_pts, GZ_pts)            # Interpolate the GZ value for the φ\n",
    "   \n",
    "    Net_moment = (m * g * GZ_equi) - wind_heel_moment\n",
    "\n",
    "    return Net_moment\n",
    "\n",
    "φ_equi = math_op.itr_sol_search(still, 0, φ_max)                       # Use iterative solver to find the solution\n",
    "\n",
    "GZ_slope = math_op.cspline_deriv(φ_equi, φ_pts, GZ_pts) * 180/π        # Evaluate the slope of the GZ Curve at the new equilibrium angle\n",
    "\n",
    "N_Roll_MI = (m * g * GM_T * Tφ**2)/(4 * π**2)\n",
    "\n",
    "Om_R = sqrt( (m * g * GZ_slope) / N_Roll_MI )  \n",
    "\n",
    "print(\"\\n Equilibrium heel angle under external wind =\", round(φ_equi,3) ,\" \", \"Equilibrium GM =\", np.around(GZ_slope, decimals=3) ,\" \", \"\\n \\n New Roll Frequency\", round(Om_R,3))\n",
    "\n",
    "print(\"\\n Simulation Ended\")\n"
   ]
  },
  {
   "cell_type": "code",
   "execution_count": null,
   "metadata": {},
   "outputs": [],
   "source": []
  },
  {
   "cell_type": "code",
   "execution_count": null,
   "metadata": {},
   "outputs": [],
   "source": []
  }
 ],
 "metadata": {
  "kernelspec": {
   "display_name": "Python 3",
   "language": "python",
   "name": "python3"
  },
  "language_info": {
   "codemirror_mode": {
    "name": "ipython",
    "version": 3
   },
   "file_extension": ".py",
   "mimetype": "text/x-python",
   "name": "python",
   "nbconvert_exporter": "python",
   "pygments_lexer": "ipython3",
   "version": "3.7.4"
  },
  "toc": {
   "base_numbering": 1,
   "nav_menu": {},
   "number_sections": true,
   "sideBar": true,
   "skip_h1_title": false,
   "title_cell": "Table of Contents",
   "title_sidebar": "Contents",
   "toc_cell": false,
   "toc_position": {},
   "toc_section_display": true,
   "toc_window_display": false
  }
 },
 "nbformat": 4,
 "nbformat_minor": 2
}
